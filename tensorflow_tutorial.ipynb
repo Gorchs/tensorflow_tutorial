{
 "cells": [
  {
   "cell_type": "markdown",
   "metadata": {},
   "source": [
    "# TENSORFLOW INTRO"
   ]
  },
  {
   "cell_type": "markdown",
   "metadata": {},
   "source": [
    "This tutorial is based on the Youtube Video:"
   ]
  },
  {
   "cell_type": "markdown",
   "metadata": {},
   "source": [
    "https://www.youtube.com/watch?v=PicxU81owCs"
   ]
  },
  {
   "cell_type": "markdown",
   "metadata": {},
   "source": [
    "## KEY CONCEPTS"
   ]
  },
  {
   "cell_type": "markdown",
   "metadata": {},
   "source": [
    "Tensorflow provides a development interface to implement your ML model as a graph, where each node is an __operation__ (with any number of inputs and outputs) and each edge (=line connecting the nodes) are the tensors."
   ]
  },
  {
   "cell_type": "markdown",
   "metadata": {},
   "source": [
    "<img src=\"tensorflow.jpg\">"
   ]
  },
  {
   "cell_type": "markdown",
   "metadata": {},
   "source": [
    "## TYPES OF NODES"
   ]
  },
  {
   "cell_type": "markdown",
   "metadata": {},
   "source": [
    "**VARIABLES**: So, as can be seen in the chart above, __variables__ are _stateful_ nodes that output their current value (_stateful_ in this context means that their state -value- does not change accross multiple executions of a graph). Do  not miss that being nodes as they are, they are still __operations__ , although a type of operation that generates a fixed output."
   ]
  },
  {
   "cell_type": "markdown",
   "metadata": {},
   "source": [
    "**PLACEHOLDERS**: are nodes whose value is input at the execution time. In the diagram above \"X\" and \"Y\" are placeholders. They have a __datatype__ and a __shape__."
   ]
  },
  {
   "cell_type": "markdown",
   "metadata": {},
   "source": [
    "**OPERATIONS**: the last node type are __mathematical operations__. It is important not confusing these operations (\"TensorFlow Mathematical Operations\") with Numpy's."
   ]
  },
  {
   "cell_type": "markdown",
   "metadata": {},
   "source": [
    "## BUILDING THE MODEL"
   ]
  },
  {
   "cell_type": "markdown",
   "metadata": {},
   "source": [
    "let's create a simple model:"
   ]
  },
  {
   "cell_type": "code",
   "execution_count": 3,
   "metadata": {},
   "outputs": [],
   "source": [
    "import tensorflow as tf"
   ]
  },
  {
   "cell_type": "code",
   "execution_count": 4,
   "metadata": {
    "collapsed": true
   },
   "outputs": [],
   "source": [
    "import numpy as np"
   ]
  },
  {
   "cell_type": "code",
   "execution_count": 5,
   "metadata": {},
   "outputs": [],
   "source": [
    "b = tf.Variable(tf.zeros((100,)))"
   ]
  },
  {
   "cell_type": "code",
   "execution_count": 6,
   "metadata": {},
   "outputs": [],
   "source": [
    "W=tf.Variable(tf.random_uniform((784,100),-1,1))"
   ]
  },
  {
   "cell_type": "code",
   "execution_count": 7,
   "metadata": {},
   "outputs": [],
   "source": [
    "x=tf.placeholder(tf.float32,(100,784))"
   ]
  },
  {
   "cell_type": "code",
   "execution_count": 8,
   "metadata": {},
   "outputs": [],
   "source": [
    "h=tf.nn.relu(tf.matmul(x,W)+b)"
   ]
  },
  {
   "cell_type": "markdown",
   "metadata": {},
   "source": [
    "with the instructions above what we have built is a graph. No data has been entered in the system and consequently things do not \"do\" anything yet. What we have so far is just a __graph__ that we can operate. We can also visualize it."
   ]
  },
  {
   "cell_type": "markdown",
   "metadata": {},
   "source": [
    "As we build the __graph__ TensorFlow adds a lot of stuff in the background. Lets take a look at it:"
   ]
  },
  {
   "cell_type": "code",
   "execution_count": 9,
   "metadata": {},
   "outputs": [
    {
     "data": {
      "text/plain": [
       "[<tf.Operation 'zeros/shape_as_tensor' type=Const>,\n",
       " <tf.Operation 'zeros/Const' type=Const>,\n",
       " <tf.Operation 'zeros' type=Fill>,\n",
       " <tf.Operation 'Variable' type=VariableV2>,\n",
       " <tf.Operation 'Variable/Assign' type=Assign>,\n",
       " <tf.Operation 'Variable/read' type=Identity>,\n",
       " <tf.Operation 'random_uniform/shape' type=Const>,\n",
       " <tf.Operation 'random_uniform/min' type=Const>,\n",
       " <tf.Operation 'random_uniform/max' type=Const>,\n",
       " <tf.Operation 'random_uniform/RandomUniform' type=RandomUniform>,\n",
       " <tf.Operation 'random_uniform/sub' type=Sub>,\n",
       " <tf.Operation 'random_uniform/mul' type=Mul>,\n",
       " <tf.Operation 'random_uniform' type=Add>,\n",
       " <tf.Operation 'Variable_1' type=VariableV2>,\n",
       " <tf.Operation 'Variable_1/Assign' type=Assign>,\n",
       " <tf.Operation 'Variable_1/read' type=Identity>,\n",
       " <tf.Operation 'Placeholder' type=Placeholder>,\n",
       " <tf.Operation 'MatMul' type=MatMul>,\n",
       " <tf.Operation 'add' type=Add>,\n",
       " <tf.Operation 'Relu' type=Relu>]"
      ]
     },
     "execution_count": 9,
     "metadata": {},
     "output_type": "execute_result"
    }
   ],
   "source": [
    "tf.get_default_graph().get_operations()"
   ]
  },
  {
   "cell_type": "markdown",
   "metadata": {},
   "source": [
    "This is the level of __abstraction__ that TensorFlow brings above Python. When we __compute__ our graph, this is what will be computed behind the curtains."
   ]
  },
  {
   "cell_type": "markdown",
   "metadata": {},
   "source": [
    "We have different methods to explore our graph. For instance we can list all the \"trainable\" variables with this call:"
   ]
  },
  {
   "cell_type": "code",
   "execution_count": 10,
   "metadata": {},
   "outputs": [
    {
     "data": {
      "text/plain": [
       "[<tf.Variable 'Variable:0' shape=(100,) dtype=float32_ref>,\n",
       " <tf.Variable 'Variable_1:0' shape=(784, 100) dtype=float32_ref>]"
      ]
     },
     "execution_count": 10,
     "metadata": {},
     "output_type": "execute_result"
    }
   ],
   "source": [
    "tf.trainable_variables()"
   ]
  },
  {
   "cell_type": "code",
   "execution_count": 11,
   "metadata": {},
   "outputs": [
    {
     "data": {
      "text/plain": [
       "[<tf.Variable 'Variable:0' shape=(100,) dtype=float32_ref>,\n",
       " <tf.Variable 'Variable_1:0' shape=(784, 100) dtype=float32_ref>]"
      ]
     },
     "execution_count": 11,
     "metadata": {},
     "output_type": "execute_result"
    }
   ],
   "source": [
    "tf.global_variables(scope=None)"
   ]
  },
  {
   "cell_type": "markdown",
   "metadata": {},
   "source": [
    "For a full description of the TensorFlow object, check the official Google documentation at:"
   ]
  },
  {
   "cell_type": "markdown",
   "metadata": {},
   "source": [
    "https://www.tensorflow.org/api_docs/python/tf/Variable"
   ]
  },
  {
   "cell_type": "markdown",
   "metadata": {},
   "source": [
    "## SESSIONS"
   ]
  },
  {
   "cell_type": "markdown",
   "metadata": {},
   "source": [
    "This graph can be deployed by initiating a __session__. This session will have a context (i.e. running on CPU, or in GPU, etc). At the time of writing these lines, Google is providing their own hardware units, called TPU's (Tensor Processing Units) that are orders of magnitude faster than __GPU's__. So, properly speaking a session is a __hardware environment__ where the graph is going to be run."
   ]
  },
  {
   "cell_type": "markdown",
   "metadata": {},
   "source": [
    "In order to work with sessions, we instantiate a __session object__ and then we __run__ it. The run method has two arguments:\n",
    "+ __Fetches__: this is the __list of graph nodes__ that return the -output- values of the nodes\n",
    "+ __Feeds__: this is a __dictionary__ that maps the graph nodes to specific values. Here is where we provide the inputs to the placeholders that we may have defined in our graph."
   ]
  },
  {
   "cell_type": "markdown",
   "metadata": {},
   "source": [
    "So, lets add some new lines to our graph to instantiate the graph and then run it:"
   ]
  },
  {
   "cell_type": "code",
   "execution_count": 12,
   "metadata": {
    "collapsed": true
   },
   "outputs": [],
   "source": [
    "sess=tf.Session()"
   ]
  },
  {
   "cell_type": "code",
   "execution_count": 13,
   "metadata": {
    "collapsed": true
   },
   "outputs": [],
   "source": [
    "sess.run(tf.global_variables_initializer())"
   ]
  },
  {
   "cell_type": "code",
   "execution_count": 14,
   "metadata": {},
   "outputs": [
    {
     "data": {
      "text/plain": [
       "array([[0.48134327, 2.7830071 , 0.        , ..., 0.        , 0.        ,\n",
       "        0.        ],\n",
       "       [0.        , 0.        , 3.048261  , ..., 4.2065988 , 0.        ,\n",
       "        3.5582352 ],\n",
       "       [0.        , 2.5946696 , 0.        , ..., 0.        , 2.1184943 ,\n",
       "        4.1256914 ],\n",
       "       ...,\n",
       "       [0.25269556, 8.298987  , 0.        , ..., 7.601764  , 0.        ,\n",
       "        1.9672672 ],\n",
       "       [0.        , 3.5237079 , 0.5716815 , ..., 2.3065104 , 0.        ,\n",
       "        0.        ],\n",
       "       [0.        , 5.649251  , 8.805585  , ..., 3.4046314 , 0.        ,\n",
       "        3.1920242 ]], dtype=float32)"
      ]
     },
     "execution_count": 14,
     "metadata": {},
     "output_type": "execute_result"
    }
   ],
   "source": [
    "sess.run(h,{x:np.random.random_sample((100,784))})"
   ]
  },
  {
   "cell_type": "markdown",
   "metadata": {},
   "source": [
    "Once we have our graph deployed onto a session what we have is a __execution environment__"
   ]
  },
  {
   "cell_type": "markdown",
   "metadata": {},
   "source": [
    "## TRAINING THE ML MODEL"
   ]
  },
  {
   "cell_type": "markdown",
   "metadata": {},
   "source": [
    "In order to implement a Machine Learning model (in our case, a Neural Network) we need to define a __loss__ function. In Tensorflow we can use placeholders for labels and then specify a loss function using lables and predictions."
   ]
  },
  {
   "cell_type": "markdown",
   "metadata": {
    "collapsed": true
   },
   "source": [
    "So, we will have a __prediction__ as the top (output) of our neural network. This will be the end of our feed-forward part. We will store this in a variable. \n",
    "Then we have to define the __cross entropy__. This cross_entropy will be defined something like this:"
   ]
  },
  {
   "cell_type": "markdown",
   "metadata": {},
   "source": [
    "    cross_entropy=-tf.reduce_sum(label*tf.log(prediction),axis=1)"
   ]
  },
  {
   "cell_type": "markdown",
   "metadata": {},
   "source": [
    "*Note: the axis=10 in the sentence above means it applies to columsn (axis=0 is applied to rows)*"
   ]
  },
  {
   "cell_type": "markdown",
   "metadata": {},
   "source": [
    "Once we have the loss defined, we have to define the __gradient__. In order to do this in TensorFlow we first have to define an __optimizer__. Each particular learning algorithm has an optimizer. For example we can use the Gradient Descent algorithm. TensorFlow comes 8at the momento of writing this) with 11 pre-defined optimizers and there are even more that are provided by the community. For a full list of supported optimizers, please check:"
   ]
  },
  {
   "cell_type": "markdown",
   "metadata": {},
   "source": [
    "https://www.tensorflow.org/api_guides/python/train"
   ]
  },
  {
   "cell_type": "markdown",
   "metadata": {},
   "source": [
    "The command to create an optimizer object is something like this:"
   ]
  },
  {
   "cell_type": "markdown",
   "metadata": {},
   "source": [
    "    train_step=tf.train.GradientDescentOptimizer(lr)"
   ]
  },
  {
   "cell_type": "markdown",
   "metadata": {},
   "source": [
    "So, the optimizer is just the __object__. In order to use it we have to invoke a method called __minimize__, that takes as the argument the __node that we want to minimize__ its output. In order to do this, we can extend the previous command to mek it look like this:"
   ]
  },
  {
   "cell_type": "markdown",
   "metadata": {},
   "source": [
    "    tf.train.GradientDescentOptimizer(lr).minimize(cross_entropy)"
   ]
  },
  {
   "cell_type": "markdown",
   "metadata": {},
   "source": [
    "So, when we evaluate the node \"train_step\" it will actually apply the gradient into all the variables in our model. This is because the .minimize method does two things in TensorFlow:\n",
    "1. It first computes the gradient of our model (in the example above that would be the cross_entropy gradient)\n",
    "2. It will apply the gradient updates to all the variables (n our example that would be the \"b\" and the \"W\")"
   ]
  },
  {
   "cell_type": "markdown",
   "metadata": {},
   "source": [
    "The next logical question is: how do we actually compute the gradient? In TensorFlow, every node has a gradient operation attached to it. The gradient is backpropagated __automatically__ by TensorFlow, behind the frontend of the developer. By default the gradient will be calculated in relation to what we defined as variables in our model (\"b\" and \"W\" in our graph)"
   ]
  },
  {
   "cell_type": "markdown",
   "metadata": {},
   "source": [
    "Once we understand how the gradient can be calculated, we can simply iterate it using a loop, for example like this:"
   ]
  },
  {
   "cell_type": "markdown",
   "metadata": {},
   "source": [
    "sess=tf.Session()\n",
    "\n",
    "sess.run(tf.initialize_all_variables())\n",
    "\n",
    "for i in range (1000):\n",
    "\n",
    "    batch_X,batch_label=data.next_batch()\n",
    "    \n",
    "    sess.run(train_step,feed_dict={x: batch_x, label: batch_label})"
   ]
  },
  {
   "cell_type": "markdown",
   "metadata": {},
   "source": [
    "So, when we run sess.run it applies to __all__ the variables in our graph, and as arguments we pass the __dictionary__ (feed_dict) composed of the graph nodes as the dictionary keys and numpy data as the dictionary values."
   ]
  },
  {
   "cell_type": "markdown",
   "metadata": {},
   "source": [
    "*Note: TensorFlow will automatically convert numpy arrays into tensors when we feed it into our model*"
   ]
  },
  {
   "cell_type": "markdown",
   "metadata": {},
   "source": [
    "## VARIABLE SHARING"
   ]
  },
  {
   "cell_type": "markdown",
   "metadata": {},
   "source": [
    "An important feature of TensorFlow is that you can run the code in multiple devices at the same time, which implies that you have to -somehow- be able to reference the same variables, with the same scope for all the instances. TensorFlow provides a simple way to deal with this. It is called __variable scoping__."
   ]
  },
  {
   "cell_type": "markdown",
   "metadata": {},
   "source": [
    "Variable scoping feature allows us to __document the names__ (and types and shapes too!) of our neurons. A variable scope provides a __name spacing__ scheme to avoid colissions (clashes)."
   ]
  },
  {
   "cell_type": "markdown",
   "metadata": {},
   "source": [
    "*get_variable* will create a certain variable for you if that variable __does not__ exist in a given context or will access that variable for you if it __does__ exist."
   ]
  },
  {
   "cell_type": "markdown",
   "metadata": {},
   "source": [
    "*variable_scope* provides a simple \"name-space-ing\" to avoid clashes."
   ]
  },
  {
   "cell_type": "markdown",
   "metadata": {},
   "source": [
    "Let's see an example:\n",
    "\n",
    "with tf.variable_scope(\"foo\"):\n",
    "\n",
    "    v=tf.get_variable(\"v\",shape=[1])                 #v.name==\"foo/v:0\"\n",
    "\n",
    "with tf.variable_scope(\"foo\", reuse=True):\n",
    "\n",
    "    v1=tf.get_variable(\"v\")                          #shared variable found!!!!!\n",
    "    \n",
    "with tf.variable_scope(\"foo\",reuse=False\"):\n",
    "\n",
    "    v1=tf.get_variable(\"v\")                          #CRASHES as foo/v:0 already exists!!!!"
   ]
  },
  {
   "cell_type": "markdown",
   "metadata": {
    "collapsed": true
   },
   "source": [
    "## EXAMPLE"
   ]
  },
  {
   "cell_type": "code",
   "execution_count": 15,
   "metadata": {
    "collapsed": true
   },
   "outputs": [],
   "source": [
    "import numpy as np\n",
    "def generate_dataset():\n",
    "    x_batch=np.linspace(-1,1,101)\n",
    "    y_batch=2*x_batch + np.random.randn(*x_batch.shape)*0.3\n",
    "    return x_batch,y_batch"
   ]
  },
  {
   "cell_type": "code",
   "execution_count": 16,
   "metadata": {},
   "outputs": [
    {
     "name": "stdout",
     "output_type": "stream",
     "text": [
      "(array([-1.  , -0.98, -0.96, -0.94, -0.92, -0.9 , -0.88, -0.86, -0.84,\n",
      "       -0.82, -0.8 , -0.78, -0.76, -0.74, -0.72, -0.7 , -0.68, -0.66,\n",
      "       -0.64, -0.62, -0.6 , -0.58, -0.56, -0.54, -0.52, -0.5 , -0.48,\n",
      "       -0.46, -0.44, -0.42, -0.4 , -0.38, -0.36, -0.34, -0.32, -0.3 ,\n",
      "       -0.28, -0.26, -0.24, -0.22, -0.2 , -0.18, -0.16, -0.14, -0.12,\n",
      "       -0.1 , -0.08, -0.06, -0.04, -0.02,  0.  ,  0.02,  0.04,  0.06,\n",
      "        0.08,  0.1 ,  0.12,  0.14,  0.16,  0.18,  0.2 ,  0.22,  0.24,\n",
      "        0.26,  0.28,  0.3 ,  0.32,  0.34,  0.36,  0.38,  0.4 ,  0.42,\n",
      "        0.44,  0.46,  0.48,  0.5 ,  0.52,  0.54,  0.56,  0.58,  0.6 ,\n",
      "        0.62,  0.64,  0.66,  0.68,  0.7 ,  0.72,  0.74,  0.76,  0.78,\n",
      "        0.8 ,  0.82,  0.84,  0.86,  0.88,  0.9 ,  0.92,  0.94,  0.96,\n",
      "        0.98,  1.  ]), array([-1.84977843, -2.22086641, -1.70728398, -1.40892649, -1.6259876 ,\n",
      "       -1.77353969, -1.97495161, -1.76940529, -1.62816675, -1.71685034,\n",
      "       -1.74159725, -1.52011563, -1.33685346, -1.16224615, -1.30965686,\n",
      "       -1.72983588, -1.37841481, -1.53131457, -1.5548883 , -0.7486923 ,\n",
      "       -1.07962019, -1.62361177, -0.70204081, -1.2804044 , -0.97464218,\n",
      "       -1.2481226 , -1.25411141, -0.84302221, -1.01714431, -1.06428357,\n",
      "       -0.81831237, -0.85936801, -0.40628932, -0.84931248, -0.76953723,\n",
      "       -0.27243651, -0.68546155, -0.61870554, -0.89167457, -0.5531527 ,\n",
      "       -0.10337719, -0.5178317 , -0.20812756, -0.21299508,  0.10105109,\n",
      "       -0.18409736, -0.05635392, -0.40291831, -0.1491339 , -0.28434152,\n",
      "        0.05090711,  0.6188776 ,  0.30952248,  0.51862457,  0.09099618,\n",
      "        0.11201827,  0.47361343,  0.54213194,  0.03324909,  0.3827832 ,\n",
      "        0.44695948,  0.70896053,  0.46104548,  0.48316604,  0.34873362,\n",
      "        0.84336925,  0.05034224,  0.81913362,  0.96468698,  0.70686641,\n",
      "        0.73732221,  0.19983973,  1.23387803,  1.02637046,  1.26001448,\n",
      "        1.09362926,  1.28074776,  1.40087186,  1.00869143,  0.87620188,\n",
      "        1.4039404 ,  1.41596085,  1.35149773,  1.87760063,  1.23014763,\n",
      "        1.60903891,  1.81179418,  1.97854316,  1.85342897,  1.90203501,\n",
      "        1.88678946,  1.65415277,  1.69663439,  1.62344388,  1.82879153,\n",
      "        1.47966593,  1.82824125,  1.74613027,  2.14142118,  1.76069657,\n",
      "        1.95859751]))\n"
     ]
    }
   ],
   "source": [
    "print (generate_dataset())"
   ]
  },
  {
   "cell_type": "code",
   "execution_count": 17,
   "metadata": {
    "collapsed": true
   },
   "outputs": [],
   "source": [
    "def linear_refression():\n",
    "    return NotImplementedError"
   ]
  },
  {
   "cell_type": "code",
   "execution_count": 18,
   "metadata": {
    "collapsed": true
   },
   "outputs": [],
   "source": [
    "import matplotlib\n",
    "from matplotlib import pyplot as plt"
   ]
  },
  {
   "cell_type": "code",
   "execution_count": 19,
   "metadata": {},
   "outputs": [
    {
     "data": {
      "image/png": "[encoded data removed]",
      "text/plain": [
       "<matplotlib.figure.Figure at 0x7f1d3cd5f9b0>"
      ]
     },
     "metadata": {},
     "output_type": "display_data"
    }
   ],
   "source": [
    "x_batch,y_batch=generate_dataset()\n",
    "plt.figure(1)\n",
    "plt.scatter(x_batch,y_batch)\n",
    "plt.show()"
   ]
  },
  {
   "cell_type": "markdown",
   "metadata": {},
   "source": [
    "So, lets implement the linear regression model and also see how we can use TensorFlow to implement it (that means implementing the function \"run\"). First, we implement the linear regression model. Its a very simple one:"
   ]
  },
  {
   "cell_type": "code",
   "execution_count": 31,
   "metadata": {
    "collapsed": true
   },
   "outputs": [],
   "source": [
    "def linear_regression():\n",
    "    x=tf.placeholder(tf.float32,shape=(None,),name='x')\n",
    "    y=tf.placeholder(tf.float32,shape=(None,),name='y')\n",
    "    \n",
    "    with tf.variable_scope('lreg') as scope:\n",
    "        w=tf.Variable(np.random.normal(),name='W')\n",
    "        y_pred=tf.multiply(w,x)\n",
    "        \n",
    "        loss = tf.reduce_mean(tf.square(y_pred-y))\n",
    "    return x,y,y_pred,loss"
   ]
  },
  {
   "cell_type": "markdown",
   "metadata": {},
   "source": [
    "Now we can define the \"run\" function:"
   ]
  },
  {
   "cell_type": "code",
   "execution_count": 34,
   "metadata": {
    "collapsed": true
   },
   "outputs": [],
   "source": [
    "def run():\n",
    "    x_batch,y_batch=generate_dataset()\n",
    "    x,y,y_pred,loss=linear_regression()\n",
    "    optimizer=tf.train.GradientDescentOptimizer(0.1).minimize(loss)\n",
    "    init = tf.global_variables_initializer()\n",
    "    with tf.Session() as session:\n",
    "        session.run(init)\n",
    "        \n",
    "        feed_dict={x:x_batch,y:y_batch}\n",
    "        for _ in range(30):\n",
    "            loss_val,_=session.run([loss,optimizer],feed_dict)\n",
    "            print('loss:',loss_val.mean())\n",
    "            \n",
    "        y_pred_batch = session.run(y_pred,{x:x_batch})\n",
    "        \n",
    "        plt.figure(1)\n",
    "plt.scatter(x_batch,y_batch)\n",
    "plt.plot(x_batch,y_pred_batch)\n",
    "plt.show()\n",
    "        "
   ]
  },
  {
   "cell_type": "code",
   "execution_count": 35,
   "metadata": {},
   "outputs": [
    {
     "name": "stdout",
     "output_type": "stream",
     "text": [
      "loss: 1.6526263\n",
      "loss: 1.4465111\n",
      "loss: 1.2674745\n",
      "loss: 1.111959\n",
      "loss: 0.9768745\n",
      "loss: 0.8595368\n",
      "loss: 0.7576145\n",
      "loss: 0.66908234\n",
      "loss: 0.5921812\n",
      "loss: 0.525383\n",
      "loss: 0.4673605\n",
      "loss: 0.41696078\n",
      "loss: 0.37318227\n",
      "loss: 0.3351553\n",
      "loss: 0.30212414\n",
      "loss: 0.27343246\n",
      "loss: 0.2485102\n",
      "loss: 0.22686212\n",
      "loss: 0.20805804\n",
      "loss: 0.19172445\n",
      "loss: 0.17753664\n",
      "loss: 0.16521278\n",
      "loss: 0.15450798\n",
      "loss: 0.14520955\n",
      "loss: 0.1371327\n",
      "loss: 0.13011692\n",
      "loss: 0.12402288\n",
      "loss: 0.11872945\n",
      "loss: 0.114131436\n",
      "loss: 0.11013749\n"
     ]
    }
   ],
   "source": [
    "run()"
   ]
  },
  {
   "cell_type": "code",
   "execution_count": 37,
   "metadata": {},
   "outputs": [
    {
     "ename": "NameError",
     "evalue": "name 'y_pred_batch' is not defined",
     "output_type": "error",
     "traceback": [
      "\u001b[0;31m---------------------------------------------------------------------------\u001b[0m",
      "\u001b[0;31mNameError\u001b[0m                                 Traceback (most recent call last)",
      "\u001b[0;32m<ipython-input-37-524b568da5c9>\u001b[0m in \u001b[0;36m<module>\u001b[0;34m()\u001b[0m\n\u001b[1;32m      1\u001b[0m \u001b[0mplt\u001b[0m\u001b[0;34m.\u001b[0m\u001b[0mfigure\u001b[0m\u001b[0;34m(\u001b[0m\u001b[0;36m1\u001b[0m\u001b[0;34m)\u001b[0m\u001b[0;34m\u001b[0m\u001b[0m\n\u001b[1;32m      2\u001b[0m \u001b[0mplt\u001b[0m\u001b[0;34m.\u001b[0m\u001b[0mscatter\u001b[0m\u001b[0;34m(\u001b[0m\u001b[0mx_batch\u001b[0m\u001b[0;34m,\u001b[0m\u001b[0my_batch\u001b[0m\u001b[0;34m)\u001b[0m\u001b[0;34m\u001b[0m\u001b[0m\n\u001b[0;32m----> 3\u001b[0;31m \u001b[0mplt\u001b[0m\u001b[0;34m.\u001b[0m\u001b[0mplot\u001b[0m\u001b[0;34m(\u001b[0m\u001b[0mx_batch\u001b[0m\u001b[0;34m,\u001b[0m\u001b[0my_pred_batch\u001b[0m\u001b[0;34m)\u001b[0m\u001b[0;34m\u001b[0m\u001b[0m\n\u001b[0m\u001b[1;32m      4\u001b[0m \u001b[0mplt\u001b[0m\u001b[0;34m.\u001b[0m\u001b[0mshow\u001b[0m\u001b[0;34m(\u001b[0m\u001b[0;34m)\u001b[0m\u001b[0;34m\u001b[0m\u001b[0m\n",
      "\u001b[0;31mNameError\u001b[0m: name 'y_pred_batch' is not defined"
     ]
    },
    {
     "data": {
      "image/png": "[encoded data removed]",
      "text/plain": [
       "<matplotlib.figure.Figure at 0x7f1d3c579470>"
      ]
     },
     "metadata": {},
     "output_type": "display_data"
    }
   ],
   "source": [
    "plt.figure(1)\n",
    "plt.scatter(x_batch,y_batch)\n",
    "plt.plot(x_batch,y_pred_batch)\n",
    "plt.show()"
   ]
  },
  {
   "cell_type": "code",
   "execution_count": null,
   "metadata": {
    "collapsed": true
   },
   "outputs": [],
   "source": []
  }
 ],
 "metadata": {
  "kernelspec": {
   "display_name": "Python [conda env:tensorflow]",
   "language": "python",
   "name": "conda-env-tensorflow-py"
  },
  "language_info": {
   "codemirror_mode": {
    "name": "ipython",
    "version": 3
   },
   "file_extension": ".py",
   "mimetype": "text/x-python",
   "name": "python",
   "nbconvert_exporter": "python",
   "pygments_lexer": "ipython3",
   "version": "3.5.4"
  }
 },
 "nbformat": 4,
 "nbformat_minor": 2
}
